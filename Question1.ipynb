{
 "cells": [
  {
   "cell_type": "markdown",
   "metadata": {},
   "source": [
    "## Part I: Classical Bandit Algorithms"
   ]
  },
  {
   "cell_type": "markdown",
   "metadata": {},
   "source": [
    "### Problem 4\n",
    "#### 集成代码，进行 Compare the numerical results of \"-greedy, UCB, and TS. \n",
    "\n",
    "#### Then discuss the impacts of \", c, and αj ,βj , respectively\n",
    "\n",
    "#### The impact of $\\alpha_j$ and $\\beta_j$\n",
    "In the Thompson Sampling Algorithm, the priors are Beta distributions with parameters $(\\alpha_j, \\beta_j)$, and the algorithm is attempting to use sampling experiment results to modify the Beta distribution to fit the Bernoulli distribution of $\\theta_j$.\n",
    "\n",
    "Denote $K = \\alpha_j + \\beta_j$ as the number of prior trials.\\\n",
    "In our experiment, we investigated the influence of different orders of magnitude of the priori $K$ on the gaps($delta$) between the algorithm outputs and the oracle value.\n",
    "\n",
    "Here is our research result:\n",
    "- The larger the order of magnitude of $K$, the smaller the $delta$.\n",
    "  - The larger the $K$ is, the closer our Beta distribution is to the Bernoulli distribution of $\\theta_j$. So experiments of TS Algorithm with larger $K$ will result in stable, relatively small deltas, like $K=1000$.\n",
    "\n",
    "The theta values of the above experimental results were obtained by random sampling in a uniform distribution, so they are applicable to general situations.\\\n",
    "\\\n",
    "However, to find the most appropriate parameters for the $\\theta_j$ array for specific data features, such as mean, standard deviation, we conducted further experiments:\\\n",
    "实验描述，统一商量，这一段在哪里讲，指实验描述？\\\n",
    "\n",
    "From these six charts, we find that:\n",
    "- When the $mean = 0.25, 0.5, 0.75$, $delta$ tends to oscillate and decrease with the increase of $std\\_dev$.\n",
    "- When the $std\\_dev = \\frac{1}{4}\\sqrt{1/6}, \\frac{2}{4}\\sqrt{1/6}, \\frac{3}{4}\\sqrt{1/6}$, $delta$ tends to oscillate and decrease with the increase of $mean$.\n",
    "- Although we conducted 20 experiments for a single group of $\\theta_j$ and used the average value of test results to plot, when $K$ was small, the image line still had relatively large oscillations. On the whole, the larger the $K$ is, the smaller the oscillation amplitude of the image.\n",
    "\n",
    "\n",
    "Based on the experimental results, we find that for $\\theta_j$, whether randomly selected with specific data features, the result is: the larger $K$ is, the smaller $delta$ is."
   ]
  },
  {
   "cell_type": "markdown",
   "metadata": {},
   "source": [
    "### Problem 5\n",
    "探索利用的理解。\n",
    "\n",
    "xxxxx\\\n",
    "\n",
    "For the TS algorithm, exploration is to continuously modify the beta distribution by pulling result to fit the Bernoulli distribution of theta, and exploitation is to continuously pull the arm with the highest mean of Bernoulli distribution according to the highly fitted beta distribution.\n",
    "\n",
    "There is no clear distinction between the stages of exploration and exploitation. With the increase of ($K$ + # of experiments), the TS algorithm gradually turns from exploration to utilization.\n",
    "\n",
    "Coefficient $E = \\frac{K\\ +\\ \\#\\ of\\ finished\\ pulling }{K\\ +\\ \\#\\ of\\ total\\ pullings}$ can be used to represent the degree of exploration-exploitation. The closer $E$ is to 0, the closer it is to exploration; the closer $E$ is to 1, the closer the algorithm is to exploitation.\n"
   ]
  },
  {
   "cell_type": "markdown",
   "metadata": {},
   "source": [
    "## Appendix: How to obtain $\\theta_j$ with specific data features\n"
   ]
  },
  {
   "cell_type": "markdown",
   "metadata": {},
   "source": [
    "Since we want to figure out the relationship between $\\theta_j$ array with exact data features like mean and standard deviation and different parameters, we have to design an algorithm to get a $\\theta_j$ array through specific mean and standard deviation.\n",
    "\n",
    "Since except $\\theta_j$ having to be between 0 and 1, there is no other limitation on value of $\\theta_j$, we can obtain $\\theta_1$ through sample from $Unif(0,1)$.\n",
    "\n",
    "Now with known $\\theta_1$, $m = mean$, $\\sigma = std\\_dev$, here is the equation set:\n",
    "$$\\begin{gather}\n",
    "\\begin{cases}(\\theta_1 + \\theta_2 + \\theta_3)/3 = m \\\\\n",
    "[(\\theta_1 - m)^2+(\\theta_2 - m)^2+(\\theta_3 - m)^2]/3 = \\sigma^2\\\\\n",
    "0<\\theta_1, \\theta_2, \\theta_3 <1\n",
    "\\end{cases}\n",
    "\\end{gather}$$\n",
    "then, we can get \n",
    "$$2\\theta_3 + (2\\theta_1-6m)\\theta_3 + 2\\theta_1^2 + 6m^2 - 3\\sigma^2 - 6\\theta_1m = 0$$\n",
    "According to symmetry, $\\theta_2$ and $\\theta_3$ are the two roots of the above equation.\n",
    "\n",
    "Hence, by solving the equation, we can get $\\theta_2$ and $\\theta_3$, and with sampled $\\theta_1$, we obtain a $\\theta_j$ array with specific mean and standard deviation."
   ]
  },
  {
   "cell_type": "code",
   "execution_count": null,
   "metadata": {},
   "outputs": [],
   "source": []
  }
 ],
 "metadata": {
  "kernelspec": {
   "display_name": "CS182",
   "language": "python",
   "name": "python3"
  },
  "language_info": {
   "name": "python",
   "version": "3.11.5"
  }
 },
 "nbformat": 4,
 "nbformat_minor": 2
}
